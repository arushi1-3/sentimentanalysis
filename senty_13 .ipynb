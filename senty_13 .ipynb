{
 "cells": [
  {
   "cell_type": "code",
   "execution_count": 1,
   "metadata": {},
   "outputs": [],
   "source": [
    "import nltk\n",
    "import re, string"
   ]
  },
  {
   "cell_type": "code",
   "execution_count": 2,
   "metadata": {
    "scrolled": true
   },
   "outputs": [],
   "source": [
    "df = open('datasets/amazon_cells_labelled.txt')\n",
    "p = df.readlines()\n",
    "sent, vals = list(), list()\n",
    "for i in p:\n",
    "    k = i.split('\\t')\n",
    "    sent.append(k[0])\n",
    "    vals.append(int(k[1].split('\\n')[0]))\n",
    "\n",
    "for i in range(len(sent)):\n",
    "    sent[i] = re.sub(r'(http|https)?:\\/\\/.*[\\r\\n]*', '', sent[i], flags=re.MULTILINE)\n",
    "    sent[i] = re.sub(r'\\d+\\s|\\s\\d+\\s|\\s\\d+$|\\d+', '', sent[i], flags=re.MULTILINE)\n",
    "    sent[i] = sent[i].translate(sent[i].maketrans(\"\", \"\", string.punctuation))\n",
    "sent = list(map(lambda x: x.lower(), sent))\n",
    "data = list(zip(sent, vals))"
   ]
  },
  {
   "cell_type": "code",
   "execution_count": 3,
   "metadata": {},
   "outputs": [],
   "source": [
    "from nltk.tokenize import word_tokenize\n",
    "import random, nltk\n",
    "\n",
    "all_words = []\n",
    "for x, y in data:\n",
    "    all_words += word_tokenize(x)\n",
    "wordlist = nltk.FreqDist(all_words)\n",
    "word_features = wordlist.keys()"
   ]
  },
  {
   "cell_type": "code",
   "execution_count": 4,
   "metadata": {},
   "outputs": [],
   "source": [
    "def get_features(text):\n",
    "    s = word_tokenize(text)\n",
    "    f = dict()\n",
    "    for word in word_features:\n",
    "        f[word] = word in s\n",
    "    return f\n",
    "features = [(get_features(a), b) for a, b in data]"
   ]
  },
  {
   "cell_type": "code",
   "execution_count": 5,
   "metadata": {},
   "outputs": [
    {
     "name": "stdout",
     "output_type": "stream",
     "text": [
      "Classifier accuracy percent: 84.5\n"
     ]
    }
   ],
   "source": [
    "random.shuffle(features)\n",
    "\n",
    "l = len(features)\n",
    "t = int(l * 0.8)\n",
    "train, test = features[:t], features[t:]\n",
    "\n",
    "classifier = nltk.NaiveBayesClassifier.train(train)\n",
    "print(\"Classifier accuracy percent:\",(nltk.classify.accuracy(classifier, test))*100)"
   ]
  },
  {
   "cell_type": "code",
   "execution_count": null,
   "metadata": {},
   "outputs": [],
   "source": []
  }
 ],
 "metadata": {
  "kernelspec": {
   "display_name": "Python 3",
   "language": "python",
   "name": "python3"
  },
  "language_info": {
   "codemirror_mode": {
    "name": "ipython",
    "version": 3
   },
   "file_extension": ".py",
   "mimetype": "text/x-python",
   "name": "python",
   "nbconvert_exporter": "python",
   "pygments_lexer": "ipython3",
   "version": "3.6.5"
  }
 },
 "nbformat": 4,
 "nbformat_minor": 2
}
